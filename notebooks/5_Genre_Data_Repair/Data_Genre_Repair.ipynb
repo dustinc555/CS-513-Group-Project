{
 "cells": [
  {
   "cell_type": "code",
   "execution_count": 157,
   "id": "9dcf1452",
   "metadata": {},
   "outputs": [
    {
     "name": "stdout",
     "output_type": "stream",
     "text": [
      "hi\n",
      "<spotipy.client.Spotify object at 0x00000267AFCD3370>\n"
     ]
    }
   ],
   "source": [
    "import json\n",
    "import spotipy\n",
    "from spotipy.oauth2 import SpotifyClientCredentials\n",
    "import time\n",
    "import pandas as pd\n",
    "from time import sleep\n",
    "from tqdm import tqdm\n",
    "\n",
    "\n",
    "creds = None\n",
    "with open('../../secret.json') as creds_file:\n",
    "    creds = json.load(creds_file)\n",
    "\n",
    "\n",
    "# Set up the Spotify client\n",
    "client_credentials_manager = SpotifyClientCredentials(client_id=creds['client_id'], client_secret=creds['client_secret'])\n",
    "sp = spotipy.Spotify(client_credentials_manager=client_credentials_manager, requests_timeout=10, retries=10)\n",
    "\n",
    "print('hi')\n",
    "print(sp)\n"
   ]
  },
  {
   "cell_type": "code",
   "execution_count": 158,
   "id": "7beafda2",
   "metadata": {},
   "outputs": [],
   "source": [
    "def get_genres(genres):\n",
    "    # first one category, second genre --- can change this if want\n",
    "    if len(genres) >= 2:\n",
    "        return genres[0], genres[1]\n",
    "    elif len(genres) >= 1:\n",
    "        return genres[0], genres[0]\n",
    "    else:\n",
    "        return \"Data\", \"Data\""
   ]
  },
  {
   "cell_type": "code",
   "execution_count": 159,
   "id": "b53f2ce8",
   "metadata": {},
   "outputs": [],
   "source": [
    "def get_album_genre(album_name, artist_name):\n",
    "  \n",
    "    q_album = \"artist:{} album:{}\".format(artist_name, album_name)\n",
    "    results_album = sp.search(q_album, limit=1, offset=0, type='album')\n",
    "\n",
    "    if len(results_album['albums']['items']) > 0:\n",
    "        \n",
    "        # try grabbing genre through album\n",
    "        album_id = results_album['albums']['items'][0]['id']\n",
    "        album = sp.album(album_id)\n",
    "        genres = album['genres']\n",
    "        if len(genres) > 0:\n",
    "            return get_genres(genres)\n",
    "        else:\n",
    "            # try grabbing genre through artist\n",
    "            artist_id = results_album['albums']['items'][0]['artists'][0]['id']\n",
    "            artist_info = sp.artist(artist_id)\n",
    "            genres = artist_info['genres']\n",
    "            return get_genres(genres)\n",
    "    else:\n",
    "        #just try searching the artitst\n",
    "        q_artist = \"artist:{}\".format(artist_name)\n",
    "        results_artist = sp.search(q_artist, limit=1, offset=0, type='artist')\n",
    "        if len(results_artist['artists']['items']) == 1:\n",
    "            genres = results_artist['artists']['items'][0]['genres']\n",
    "            return get_genres(genres)\n",
    "        else:\n",
    "            return \"Data\", \"Data\""
   ]
  },
  {
   "cell_type": "code",
   "execution_count": 160,
   "id": "2ec99aea",
   "metadata": {},
   "outputs": [
    {
     "name": "stdout",
     "output_type": "stream",
     "text": [
      "('alternative metal', 'nu metal')\n"
     ]
    }
   ],
   "source": [
    "artist_name = \"Linkin Park\"\n",
    "song_name = \"\"\n",
    "try:\n",
    "    res = get_album_genre(song_name, artist_name)\n",
    "    print(res)\n",
    "except Exception as e:\n",
    "    print(str(e))"
   ]
  },
  {
   "cell_type": "code",
   "execution_count": 161,
   "id": "89df258a",
   "metadata": {},
   "outputs": [
    {
     "name": "stdout",
     "output_type": "stream",
     "text": [
      "33\n",
      "                             artist   \n",
      "2                         No Return  \\\n",
      "4                           Emanuel   \n",
      "14                            Keedy   \n",
      "25                  Jazz Signatures   \n",
      "26              Bernadã¨te Bidã ude   \n",
      "33             Sportfreunde Stiller   \n",
      "34          Rennie Pilgrim Presents   \n",
      "38                             Deux   \n",
      "40                          Various   \n",
      "41                  Matsuka Phonics   \n",
      "43                         Robotika   \n",
      "48                   Rolling Stones   \n",
      "49     Ã¤ã®ã«ã¥ã°ã¤ Ã¹ã¬ Ã¤ã¢ã¸ã¥ã¡   \n",
      "61            Â¿â©ã‡ã _â½âºã„ã‰ã„â¡   \n",
      "62                     Diversetion)   \n",
      "9332                     Pink Floyd   \n",
      "1                           Various   \n",
      "10                          Various   \n",
      "11             Â¾ã®â¸â°ã€ãœ Worship   \n",
      "17                       Bill Evans   \n",
      "18                 Nature Destroyed   \n",
      "20                Dingdong Avanzado   \n",
      "22    Variousce Italiennes (disc 1)   \n",
      "29                           <v8.5e   \n",
      "31                           Gazebo   \n",
      "45                  Johnny Hallyday   \n",
      "53                        Green Day   \n",
      "57                  Various Artists   \n",
      "58                           Savage   \n",
      "59                 Atmo Brtschitsch   \n",
      "67                        Les Vamps   \n",
      "9333                 Carlos Santana   \n",
      "9336                       Ãœâ¤ãƒãž   \n",
      "\n",
      "                                                  title      id  \n",
      "2                                       Self Mutilation  100002  \n",
      "4                                            Felicidade  100004  \n",
      "14                                     Chase The Clouds  100015  \n",
      "25                                      Jazz Signatures  100028  \n",
      "26                                        Pomme D'amour  100029  \n",
      "33                                       Die Gute Seite  100037  \n",
      "34                                    Nu Skool Breakz 2  100038  \n",
      "38                                              Forever  100042  \n",
      "40                                      Custom Music Cd  100044  \n",
      "41                                Let's Study Phonics 2  100045  \n",
      "43                                                Dance  100047  \n",
      "48                        Giant Stadium 17.08.1994 Cd 2  100052  \n",
      "49                                        Ã¤ã£ã¢ Ã°ã§ã¹  100054  \n",
      "61                                                  8th  100067  \n",
      "62    Zeitgeist: The Psychedelic Shack (future Funk ...  100068  \n",
      "9332                                    The Wall Disc 1    1818  \n",
      "1                          Frankfurt Trance Vol. 04 Cd1  100001  \n",
      "10                         Frankfurt Trance Vol. 05 Cd1  100010  \n",
      "11                                   Child Praise Vol.1  100011  \n",
      "17                                                Alone  100019  \n",
      "18                                               Shades  100020  \n",
      "20                        The Best Of Dingdong Avanzado  100022  \n",
      "22    La \\dolce Vita\\ Les Tubes Dance Italiens / Les...  100025  \n",
      "29                                               <v8.5e  100032  \n",
      "31                                   The Best Of Gazebo  100035  \n",
      "45                                                Vol 4  100049  \n",
      "53                                               Dookie  100058  \n",
      "57      An Audio Cd Of African-american Oral Traditions  100063  \n",
      "58                                              Tonight  100064  \n",
      "59                                     Change Your Life  100065  \n",
      "67                                           2 Eme Show  100073  \n",
      "9333                                             Carlos    1823  \n",
      "9336                                           Ãœâ¤ãƒãž    1858  \n"
     ]
    }
   ],
   "source": [
    "\n",
    "cddb_df = pd.read_csv('../../cleaning_stages/4_year_repair/cddb_3.tsv', sep='\\t')\n",
    "tracks_df = pd.read_csv('../../cleaning_stages/4_year_repair/cddb_tracks.tsv', sep='\\t')\n",
    "\n",
    "cddb_genre_1 = cddb_df[cddb_df['genre'] == 'Data']\n",
    "cddb_genre_2 = cddb_df[cddb_df['genre'].isnull()]\n",
    "cddb_genre_3 = cddb_df[cddb_df['category'].isnull()]\n",
    "\n",
    "combine = [cddb_genre_1, cddb_genre_2, cddb_genre_3]\n",
    "  \n",
    "cddb_trim = pd.concat(combine)\n",
    "cddb_df_trim = cddb_trim[['artist', 'title', 'id']]\n",
    "print(len(cddb_df_trim))\n",
    "print(cddb_df_trim)"
   ]
  },
  {
   "cell_type": "code",
   "execution_count": 162,
   "id": "17ee673e",
   "metadata": {},
   "outputs": [
    {
     "name": "stdout",
     "output_type": "stream",
     "text": [
      "num null years: $33\n"
     ]
    }
   ],
   "source": [
    "# lists are much faster than dataframes, converting\n",
    "cddb_list = cddb_df_trim.values.tolist()\n",
    "tracks_list = tracks_df.values.tolist()\n",
    "\n",
    "print(f'num null years: ${len(cddb_list)}')"
   ]
  },
  {
   "cell_type": "code",
   "execution_count": 165,
   "id": "abbfb9e9",
   "metadata": {},
   "outputs": [],
   "source": [
    "def start_repair(cd_list):\n",
    "    \n",
    "    for cddb_row in cd_list:\n",
    "\n",
    "        artist_name = cddb_row[0]\n",
    "        album_name = cddb_row[1]\n",
    "        category, genre = get_album_genre(album_name, artist_name)\n",
    "\n",
    "        # update cddb_df directly\n",
    "        # if no results it will just fill in \"Data\", \"Data\"\n",
    "        idx_list = cddb_df.index[cddb_df['id'] == cddb_row[2]].tolist()\n",
    "        idx = idx_list[0]\n",
    "        cddb_df.at[idx,'category'] = category\n",
    "        cddb_df.at[idx,'genre'] = genre\n",
    "        print(\"fixed - :\" + str(cddb_row) + \"category: \" + str(category) + \", \" + \"genre: \" + str(genre))\n",
    "    "
   ]
  },
  {
   "cell_type": "code",
   "execution_count": 166,
   "id": "09b72151",
   "metadata": {},
   "outputs": [
    {
     "name": "stdout",
     "output_type": "stream",
     "text": [
      "fixed - :['No Return', 'Self Mutilation', 100002]category: Data, genre: Data\n",
      "fixed - :['Emanuel', 'Felicidade', 100004]category: classic portuguese pop, genre: classic portuguese pop\n",
      "fixed - :['Keedy', 'Chase The Clouds', 100015]category: bounce, genre: bounce\n",
      "fixed - :['Jazz Signatures', 'Jazz Signatures', 100028]category: Data, genre: Data\n",
      "fixed - :['Bernadã¨te Bidã\\xa0ude', \"Pomme D'amour\", 100029]category: Data, genre: Data\n",
      "fixed - :['Sportfreunde Stiller', 'Die Gute Seite', 100037]category: german indie, genre: german indie rock\n",
      "fixed - :['Rennie Pilgrim Presents', 'Nu Skool Breakz 2', 100038]category: Data, genre: Data\n",
      "fixed - :['Deux', 'Forever', 100042]category: dfw rap, genre: dfw rap\n",
      "fixed - :['Various', 'Custom Music Cd', 100044]category: pluggnb, genre: pluggnb\n",
      "fixed - :['Matsuka Phonics', \"Let's Study Phonics 2\", 100045]category: Data, genre: Data\n",
      "fixed - :['Robotika', 'Dance', 100047]category: Data, genre: Data\n",
      "fixed - :['Rolling Stones', 'Giant Stadium 17.08.1994 Cd 2', 100052]category: album rock, genre: british invasion\n",
      "fixed - :['Ã¤ã®ã«ã¥ã°ã¤ Ã¹ã¬ Ã¤ã¢ã¸ã¥ã¡', 'Ã¤ã£ã¢ Ã°ã§ã¹', 100054]category: Data, genre: Data\n",
      "fixed - :['Â¿â©ã‡ã\\xa0_â½âºã„ã‰ã„â¡', '8th', 100067]category: Data, genre: Data\n",
      "fixed - :['Diversetion)', 'Zeitgeist: The Psychedelic Shack (future Funk And Beatsploitation)', 100068]category: Data, genre: Data\n",
      "fixed - :['Pink Floyd', 'The Wall Disc 1', 1818]category: album rock, genre: art rock\n",
      "fixed - :['Various', 'Frankfurt Trance Vol. 04 Cd1', 100001]category: pluggnb, genre: pluggnb\n",
      "fixed - :['Various', 'Frankfurt Trance Vol. 05 Cd1', 100010]category: pluggnb, genre: pluggnb\n",
      "fixed - :['Â¾ã®â¸â°ã€ãœ Worship', 'Child Praise Vol.1', 100011]category: Data, genre: Data\n",
      "fixed - :['Bill Evans', 'Alone', 100019]category: bebop, genre: contemporary post-bop\n",
      "fixed - :['Nature Destroyed', 'Shades', 100020]category: Data, genre: Data\n",
      "fixed - :['Dingdong Avanzado', 'The Best Of Dingdong Avanzado', 100022]category: classic opm, genre: opm\n",
      "fixed - :['Variousce Italiennes (disc 1)', 'La \\\\dolce Vita\\\\ Les Tubes Dance Italiens / Les Chansons Dance Italiennes (disc 1)', 100025]category: Data, genre: Data\n",
      "fixed - :['<v8.5e', '<v8.5e', 100032]category: Data, genre: Data\n",
      "fixed - :['Gazebo', 'The Best Of Gazebo', 100035]category: Data, genre: Data\n",
      "fixed - :['Johnny Hallyday', 'Vol 4', 100049]category: chanson, genre: french pop\n",
      "fixed - :['Green Day', 'Dookie', 100058]category: modern rock, genre: permanent wave\n",
      "fixed - :['Various Artists', 'An Audio Cd Of African-american Oral Traditions', 100063]category: Data, genre: Data\n",
      "fixed - :['Savage', 'Tonight', 100064]category: italo disco, genre: new italo disco\n",
      "fixed - :['Atmo Brtschitsch', 'Change Your Life', 100065]category: Data, genre: Data\n",
      "fixed - :['Les Vamps', '2 Eme Show', 100073]category: Data, genre: Data\n",
      "fixed - :['Carlos Santana', 'Carlos', 1823]category: Data, genre: Data\n",
      "fixed - :['Ãœâ¤ãƒãž', 'Ãœâ¤ãƒãž', 1858]category: Data, genre: Data\n"
     ]
    }
   ],
   "source": [
    "start_repair(cddb_list)"
   ]
  },
  {
   "cell_type": "code",
   "execution_count": 167,
   "id": "e50f4cce",
   "metadata": {},
   "outputs": [],
   "source": [
    "#save to output\n",
    "cddb_df.to_csv('../../cleaning_stages/5_genre_repair/cddb_4.tsv', sep=\"\\t\", index=False)\n",
    "tracks_df.to_csv('../../cleaning_stages/5_genre_repair/cddb_tracks.tsv', sep=\"\\t\", index=False)"
   ]
  },
  {
   "cell_type": "code",
   "execution_count": null,
   "id": "0b5481b9",
   "metadata": {},
   "outputs": [],
   "source": []
  }
 ],
 "metadata": {
  "kernelspec": {
   "display_name": "Python 3 (ipykernel)",
   "language": "python",
   "name": "python3"
  },
  "language_info": {
   "codemirror_mode": {
    "name": "ipython",
    "version": 3
   },
   "file_extension": ".py",
   "mimetype": "text/x-python",
   "name": "python",
   "nbconvert_exporter": "python",
   "pygments_lexer": "ipython3",
   "version": "3.9.16"
  }
 },
 "nbformat": 4,
 "nbformat_minor": 5
}

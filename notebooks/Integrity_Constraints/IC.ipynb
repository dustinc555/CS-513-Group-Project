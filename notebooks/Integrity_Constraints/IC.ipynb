{
 "cells": [
  {
   "cell_type": "code",
   "execution_count": 1,
   "id": "3eae18be-4bd5-498a-b476-9b2ac16ee433",
   "metadata": {},
   "outputs": [],
   "source": [
    "import pandas as pd\n",
    "import re\n",
    " \n",
    "stage_1 = pd.read_csv('../../cleaning_stages/1_openrefine/cddb-tsv.tsv', sep='\\t')\n",
    "stage_5 = pd.read_csv('../../cleaning_stages/5_genre_repair/cddb_4.tsv', sep='\\t')\n",
    "final_drop = pd.read_csv('../../cleaning_stages/6_openrefine_drop_bad/cddb-4-drop.tsv', sep='\\t')"
   ]
  },
  {
   "cell_type": "markdown",
   "id": "50f28154-6e9e-4196-94c9-006e9d4fc27d",
   "metadata": {},
   "source": [
    "## IC 1: Null Year"
   ]
  },
  {
   "cell_type": "code",
   "execution_count": 2,
   "id": "cb1a5ed6-9dcc-4a7c-99bb-1684a9c8b4a9",
   "metadata": {},
   "outputs": [],
   "source": [
    "def null_years(df):\n",
    "    return df[df['year'].isna()]\n",
    "\n",
    "def null_years_percent(df):\n",
    "    return len(null_years(df)) / len(df)"
   ]
  },
  {
   "cell_type": "code",
   "execution_count": 3,
   "id": "b69a74db-11e6-47e0-9867-8d7f658c50dd",
   "metadata": {},
   "outputs": [
    {
     "name": "stdout",
     "output_type": "stream",
     "text": [
      "stage 1 percent of null years: 0.46\n",
      "stage 5 percent of null years: 0.21\n",
      "Difference: 0.25\n"
     ]
    }
   ],
   "source": [
    "null_years_stage_1 = null_years_percent(stage_1)\n",
    "null_years_stage_5 = null_years_percent(stage_5)\n",
    "\n",
    "print(f'stage 1 percent of null years: {round(null_years_stage_1, 2)}')\n",
    "print(f'stage 5 percent of null years: {round(null_years_stage_5, 2)}')\n",
    "print(f'Difference: {round(null_years_stage_1 - null_years_stage_5, 2)}')"
   ]
  },
  {
   "cell_type": "markdown",
   "id": "b20fdb42-1aac-44a6-b045-4816a5c4e79b",
   "metadata": {},
   "source": [
    "## IC 2: Null Genre"
   ]
  },
  {
   "cell_type": "code",
   "execution_count": 4,
   "id": "e8b268ab-3b72-4e2b-9c7f-c209230c79b9",
   "metadata": {},
   "outputs": [],
   "source": [
    "def null_genre(df):\n",
    "    return df[df['genre'].isna()]\n",
    "\n",
    "def null_genre_percent(df):\n",
    "    return len(null_genre(df)) / len(df)"
   ]
  },
  {
   "cell_type": "code",
   "execution_count": 5,
   "id": "5fedcb63-a26f-426d-91af-e4c531e7e8d7",
   "metadata": {},
   "outputs": [
    {
     "name": "stdout",
     "output_type": "stream",
     "text": [
      "stage 1 percent of null genre: 0.35\n",
      "stage 5 percent of null genre: 0.0\n",
      "Difference: 0.35\n"
     ]
    }
   ],
   "source": [
    "null_genre_stage_1 = null_genre_percent(stage_1)\n",
    "null_genre_stage_5 = null_genre_percent(stage_5)\n",
    "\n",
    "print(f'stage 1 percent of null genre: {round(null_genre_stage_1, 2)}')\n",
    "print(f'stage 5 percent of null genre: {round(null_genre_stage_5, 2)}')\n",
    "print(f'Difference: {round(null_genre_stage_1 - null_genre_stage_5, 2)}')"
   ]
  },
  {
   "cell_type": "markdown",
   "id": "66b17768-17d5-4ee4-ada6-edf28a390530",
   "metadata": {},
   "source": [
    "## IC 3: Years with 9999 "
   ]
  },
  {
   "cell_type": "code",
   "execution_count": 6,
   "id": "0603a295-7b2c-4b7a-b7a3-6f111651a792",
   "metadata": {},
   "outputs": [],
   "source": [
    "def exists_9999_years(df):\n",
    "    return df[df['year'] == '9999']"
   ]
  },
  {
   "cell_type": "code",
   "execution_count": 7,
   "id": "e2d763c7-5312-4cf5-ab6f-522c1b3396c4",
   "metadata": {},
   "outputs": [
    {
     "name": "stdout",
     "output_type": "stream",
     "text": [
      "Empty DataFrame\n",
      "Columns: [artist, category, genre, title, tracks, year, id, merged_values]\n",
      "Index: []\n"
     ]
    }
   ],
   "source": [
    "print(exists_9999_years(final_drop))"
   ]
  },
  {
   "cell_type": "markdown",
   "id": "d156fb2f-941a-4ea8-a7e8-4069d5d3c095",
   "metadata": {},
   "source": [
    "## Dropping Rows\n",
    "\n",
    "For our final openrefine we used that to drop rows that could not be repaired.\n",
    "\n",
    "We ended up having to drop about 22% of the data, which is significantly better than dropping 50% like we would have had to do before cleaning. "
   ]
  },
  {
   "cell_type": "code",
   "execution_count": 8,
   "id": "383bd7a8-8a97-4bab-80f7-678e62bd33d7",
   "metadata": {},
   "outputs": [
    {
     "name": "stdout",
     "output_type": "stream",
     "text": [
      "Stage 5 Count: 9763\n",
      "Final Count: 7663\n",
      "Number of Nulls Dropped: 2100\n",
      "Loss Percent: 22.0%\n"
     ]
    }
   ],
   "source": [
    "print(f'Stage 5 Count: {len(stage_5)}')\n",
    "print(f'Final Count: {len(final_drop)}')\n",
    "print(f'Number of Nulls Dropped: {len(stage_5) - len(final_drop)}')\n",
    "print(f'Loss Percent: {round(1.0 - (len(final_drop) / len(stage_5)), 2) * 100}%')"
   ]
  },
  {
   "cell_type": "code",
   "execution_count": 9,
   "id": "8828b377-b005-43d0-9f39-e4e859c19c03",
   "metadata": {},
   "outputs": [],
   "source": [
    "integrity_constraints = [null_years, null_genre, exists_9999_years]\n",
    "\n",
    "def run_tests(df):\n",
    "    for ic in integrity_constraints:\n",
    "        result = \"PASS\" if ic(df).empty else \"FAIL\"\n",
    "        print(f'{ic.__name__} .... {result}')"
   ]
  },
  {
   "cell_type": "code",
   "execution_count": 10,
   "id": "a33866fc-34b4-440f-a9b9-74c7e975e597",
   "metadata": {},
   "outputs": [
    {
     "name": "stdout",
     "output_type": "stream",
     "text": [
      "null_years .... PASS\n",
      "null_genre .... PASS\n",
      "exists_9999_years .... PASS\n"
     ]
    }
   ],
   "source": [
    "run_tests(final_drop)"
   ]
  },
  {
   "cell_type": "markdown",
   "id": "af6fb073",
   "metadata": {},
   "source": [
    "## Additional IC Constraints"
   ]
  },
  {
   "cell_type": "code",
   "execution_count": 11,
   "id": "75e8f1c2",
   "metadata": {},
   "outputs": [],
   "source": [
    "stage_7 = pd.read_csv('../../cleaning_stages/7_unit_code_repair/cddb_5.tsv', sep='\\t')\n",
    "stage_7_tracks = pd.read_csv('../../cleaning_stages/7_unit_code_repair/cddb_tracks_2.tsv', sep='\\t')\n",
    "stage_2_tracks = pd.read_csv('../../cleaning_stages/2_tracks_split/cddb_tracks.tsv', sep='\\t')\n",
    "\n",
    "# comparing stage_7 to stage_1\n",
    "# comparing stage_7_tracks to stage_2_tracks"
   ]
  },
  {
   "cell_type": "markdown",
   "id": "c1500018",
   "metadata": {},
   "source": [
    "## IC 4: duplicate ID check"
   ]
  },
  {
   "cell_type": "code",
   "execution_count": 12,
   "id": "8becb11c-d646-4f39-a590-d8c64adc56fd",
   "metadata": {},
   "outputs": [],
   "source": [
    "def duplicate_id_Check(df):\n",
    "    ic4_violations = df[df.groupby(['id'])['id'].transform('count') > 1]\n",
    "    return ic4_violations"
   ]
  },
  {
   "cell_type": "code",
   "execution_count": 13,
   "id": "571d5f17",
   "metadata": {},
   "outputs": [
    {
     "name": "stdout",
     "output_type": "stream",
     "text": [
      "stage 1 a total of: 0 duplicate id(s)\n",
      "stage 7 a total of: 0 duplicate id(s)\n",
      "Difference: 0\n",
      "Success: Pass\n"
     ]
    }
   ],
   "source": [
    "id_check_stage_1 = len(duplicate_id_Check(stage_1))\n",
    "id_check_stage_7 = len(duplicate_id_Check(stage_7))\n",
    "diff = id_check_stage_1 - id_check_stage_7\n",
    "Success = \"Pass\" if diff == 0 & id_check_stage_7 <= id_check_stage_1 else \"Fail\"\n",
    "\n",
    "\n",
    "print(f'stage 1 a total of: {id_check_stage_1} duplicate id(s)')\n",
    "print(f'stage 7 a total of: {id_check_stage_7} duplicate id(s)')\n",
    "print(f'Difference: {diff}')\n",
    "print(f\"Success: {Success}\")\n"
   ]
  },
  {
   "cell_type": "markdown",
   "id": "048e5f6f",
   "metadata": {},
   "source": [
    "## IC 5: Mangled Unit Code Check"
   ]
  },
  {
   "cell_type": "code",
   "execution_count": 14,
   "id": "537efb96",
   "metadata": {},
   "outputs": [],
   "source": [
    "def check_mangled_code(string):\n",
    "    check_string = string.lower().strip()\n",
    "    reg = \"[^a-zA-Z0-9_][^a-zA-Z0-9_][^a-zA-Z0-9_][^a-zA-Z0-9_]\"\n",
    "    p = re.compile(reg)\n",
    "\n",
    "    # check if ?????\n",
    "    # two ?? in a row is mangled code\n",
    "    if \"??\" in check_string:\n",
    "        return True\n",
    "    \n",
    "    # check if mangled\n",
    "    else:\n",
    "        return bool(p.match(check_string))"
   ]
  },
  {
   "cell_type": "code",
   "execution_count": 15,
   "id": "2be894bb",
   "metadata": {},
   "outputs": [],
   "source": [
    "def mangled_unit_code_Check(df):\n",
    "    violations = 0\n",
    "    \n",
    "    for i, row in df.iterrows():\n",
    "        # 1. get row values as string\n",
    "        row_str = df.iloc[i,:].to_string(header=False, index=False)\n",
    "        row_str = row_str.replace(\" \", \"\").replace('\\n', ',').replace('\\r', ',').replace('\\t', '').strip()\n",
    "        \n",
    "        # 2. condition checking\n",
    "        if check_mangled_code(row_str) == True:\n",
    "            # 3. increment violations\n",
    "            violations += 1\n",
    "        else:\n",
    "            pass\n",
    "\n",
    "    return violations / len(df)"
   ]
  },
  {
   "cell_type": "code",
   "execution_count": 16,
   "id": "27975cac",
   "metadata": {},
   "outputs": [
    {
     "name": "stdout",
     "output_type": "stream",
     "text": [
      "stage 1 a total of: 0.03% mangled unit code violations\n",
      "stage 7 a total of: 0.0% mangled unit code violations\n",
      "Difference: 0.03\n",
      "Success: Pass\n"
     ]
    }
   ],
   "source": [
    "unit_check_stage_1 = mangled_unit_code_Check(stage_1)\n",
    "unit_check_stage_7 = mangled_unit_code_Check(stage_7)\n",
    "unit_diff = unit_check_stage_1 - unit_check_stage_7\n",
    "unit_Success = \"Pass\" if unit_check_stage_7 <= unit_check_stage_7 else \"Fail\"\n",
    "\n",
    "\n",
    "print(f'stage 1 a total of: {round(unit_check_stage_1,2)}% mangled unit code violations')\n",
    "print(f'stage 7 a total of: {round(unit_check_stage_7,2)}% mangled unit code violations')\n",
    "print(f'Difference: {round(unit_diff,2)}')\n",
    "print(f\"Success: {unit_Success}\")"
   ]
  },
  {
   "cell_type": "code",
   "execution_count": 17,
   "id": "5edf16a6",
   "metadata": {},
   "outputs": [
    {
     "name": "stdout",
     "output_type": "stream",
     "text": [
      "stage 2 tracks a total of: 0.0% mangled unit code violations\n",
      "stage 7 tracks a total of: 0.0% mangled unit code violations\n",
      "Difference: 0.0\n",
      "Success: Pass\n"
     ]
    }
   ],
   "source": [
    "unit_check_stage_2_t = mangled_unit_code_Check(stage_2_tracks)\n",
    "unit_check_stage_7_t = mangled_unit_code_Check(stage_7_tracks)\n",
    "unit_diff_t = unit_check_stage_2_t - unit_check_stage_7_t\n",
    "unit_Success_t = \"Pass\" if unit_check_stage_7_t <= unit_check_stage_2_t else \"Fail\"\n",
    "\n",
    "\n",
    "print(f'stage 2 tracks a total of: {round(unit_check_stage_2_t,2)}% mangled unit code violations')\n",
    "print(f'stage 7 tracks a total of: {round(unit_check_stage_7_t,2)}% mangled unit code violations')\n",
    "print(f'Difference: {round(unit_diff_t,2)}')\n",
    "print(f\"Success: {unit_Success_t}\")"
   ]
  },
  {
   "cell_type": "markdown",
   "id": "b78fa1e5",
   "metadata": {},
   "source": [
    "## IC 6: Every Album Id in cddb has at least one song in tracks"
   ]
  },
  {
   "cell_type": "code",
   "execution_count": 18,
   "id": "fac6678e",
   "metadata": {},
   "outputs": [],
   "source": [
    "# need a stage 2 file for this since it is post split\n",
    "stage_2 = pd.read_csv('../../cleaning_stages/2_tracks_split/cddb_1.tsv', sep='\\t')"
   ]
  },
  {
   "cell_type": "code",
   "execution_count": 19,
   "id": "5e7aa48f",
   "metadata": {},
   "outputs": [],
   "source": [
    "def album_dependancy_check(df, tracks):\n",
    "    violations = 0\n",
    "\n",
    "    for i, row in df.iterrows():\n",
    "        album_id = row[4]\n",
    "\n",
    "        tracks_for_album = tracks[tracks['Album Id'] == album_id]\n",
    "        if len(tracks_for_album) == 0:\n",
    "            violations += 1\n",
    "\n",
    "    return violations / len(df)"
   ]
  },
  {
   "cell_type": "code",
   "execution_count": 23,
   "id": "365cdb64",
   "metadata": {},
   "outputs": [
    {
     "name": "stdout",
     "output_type": "stream",
     "text": [
      "stage 2 tracks a total of: 0.0% album dependency violations\n",
      "stage 7 tracks a total of: 0.0% album dependency violations\n",
      "Difference: 0.0\n",
      "Success: Pass\n"
     ]
    }
   ],
   "source": [
    "album_check_stage_2 = round(album_dependancy_check(stage_2, stage_2_tracks),2)\n",
    "album_check_stage_7 = round(album_dependancy_check(stage_7, stage_7_tracks),2)\n",
    "album_diff = album_check_stage_2 - album_check_stage_7\n",
    "album_Success = \"Pass\" if album_check_stage_7 <= album_check_stage_2 else \"Fail\"\n",
    "\n",
    "\n",
    "print(f'stage 2 tracks a total of: {album_check_stage_2}% album dependency violations')\n",
    "print(f'stage 7 tracks a total of: {album_check_stage_7}% album dependency violations')\n",
    "print(f'Difference: {round(album_diff,2)}')\n",
    "print(f\"Success: {album_Success}\")"
   ]
  },
  {
   "cell_type": "code",
   "execution_count": null,
   "id": "da6bf239",
   "metadata": {},
   "outputs": [],
   "source": []
  }
 ],
 "metadata": {
  "kernelspec": {
   "display_name": "Python 3 (ipykernel)",
   "language": "python",
   "name": "python3"
  },
  "language_info": {
   "codemirror_mode": {
    "name": "ipython",
    "version": 3
   },
   "file_extension": ".py",
   "mimetype": "text/x-python",
   "name": "python",
   "nbconvert_exporter": "python",
   "pygments_lexer": "ipython3",
   "version": "3.9.16"
  }
 },
 "nbformat": 4,
 "nbformat_minor": 5
}

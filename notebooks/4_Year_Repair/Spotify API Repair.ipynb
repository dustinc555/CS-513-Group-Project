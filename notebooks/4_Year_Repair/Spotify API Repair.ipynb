{
 "cells": [
  {
   "cell_type": "code",
   "execution_count": 24,
   "id": "7596804e",
   "metadata": {},
   "outputs": [
    {
     "name": "stdout",
     "output_type": "stream",
     "text": [
      "hi\n",
      "<spotipy.client.Spotify object at 0x000001628070F5E0>\n"
     ]
    }
   ],
   "source": [
    "import json\n",
    "import spotipy\n",
    "from spotipy.oauth2 import SpotifyClientCredentials\n",
    "import time\n",
    "import pandas as pd\n",
    "from time import sleep\n",
    "from tqdm import tqdm\n",
    "\n",
    "\n",
    "creds = None\n",
    "with open('../../secret.json') as creds_file:\n",
    "    creds = json.load(creds_file)\n",
    "\n",
    "\n",
    "# Set up the Spotify client\n",
    "client_credentials_manager = SpotifyClientCredentials(client_id=creds['client_id'], client_secret=creds['client_secret'])\n",
    "sp = spotipy.Spotify(client_credentials_manager=client_credentials_manager)\n",
    "\n",
    "print('hi')\n",
    "print(sp)\n"
   ]
  },
  {
   "cell_type": "code",
   "execution_count": 25,
   "id": "9d37435d",
   "metadata": {},
   "outputs": [],
   "source": [
    "# import time\n",
    "# \n",
    "# artist_name = \"Linkin Park\"\n",
    "# song_name = \"Breaking the Habit\"\n",
    "# \n",
    "# try:\n",
    "#     result = sp.search(q=f'track:{song_name} artist:{artist_name}', type='track')\n",
    "#     print(result)\n",
    "# except spotipy.SpotifyException as e:\n",
    "#     print(f\"An error occurred: {e}\")\n",
    "# finally:\n",
    "#     # Introduce a delay between requests (e.g., 1 second)\n",
    "#     time.sleep(1)\n"
   ]
  },
  {
   "cell_type": "code",
   "execution_count": 26,
   "id": "f6641fd1",
   "metadata": {},
   "outputs": [],
   "source": [
    "def get_song_release_year(song_name, artist_name):\n",
    "    sleep(.5)\n",
    "    # Search for the song\n",
    "    # trying this search for faster queries hopefully\n",
    "    # search(q, limit=10, offset=0, type='track', market=None)\n",
    "    # let q = String.init(format:\"artist:%@ track:%@\",artistName,trackName)\n",
    "    # https://stackoverflow.com/questions/42766000/spotipy-how-do-i-search-by-both-artist-and-song\n",
    "    q = \"artist:{} track:{}\".format(artist_name, song_name)\n",
    "    results = sp.search(q, limit=1, offset=0, type='track', market=None)\n",
    "\n",
    "    # Extract the release year from the first search result\n",
    "    if len(results['tracks']['items']) > 0:\n",
    "        release_date = results['tracks']['items'][0]['album']['release_date']\n",
    "        release_year = release_date.split('-')[0]\n",
    "        return release_year\n",
    "    else:\n",
    "        # Return None if no results were found\n",
    "        return None"
   ]
  },
  {
   "cell_type": "code",
   "execution_count": 6,
   "id": "5b8a0983",
   "metadata": {},
   "outputs": [],
   "source": [
    "artist_name = \"Linkin Park\"\n",
    "song_name = \"Breaking the Habit\"\n",
    "try:\n",
    "    print(get_song_release_year(song_name, artist_name))\n",
    "except Exception as e:\n",
    "    print(str(e))\n",
    "\n"
   ]
  },
  {
   "cell_type": "code",
   "execution_count": 27,
   "id": "3b607014",
   "metadata": {},
   "outputs": [],
   "source": [
    "cddb_df = pd.read_csv('../../cleaning_stages/3_category_genre/cddb_2.tsv', sep='\\t')\n",
    "tracks_df = pd.read_csv('../../cleaning_stages/3_category_genre/cddb_tracks.tsv', sep='\\t')\n",
    "\n",
    "# not updating tracks here so can save to next cleaning stage\n",
    "tracks_df.to_csv('../../cleaning_stages/4_year_repair/cddb_tracks.tsv', sep=\"\\t\", index=False)\n",
    "\n",
    "cddb_df_trim = cddb_df[cddb_df['year'].isnull()]\n",
    "cddb_df_trim = cddb_df_trim[['artist', 'tracks', 'year', 'id']]"
   ]
  },
  {
   "cell_type": "code",
   "execution_count": 28,
   "id": "ad550b6c",
   "metadata": {},
   "outputs": [
    {
     "name": "stdout",
     "output_type": "stream",
     "text": [
      "num null years: $4532\n"
     ]
    }
   ],
   "source": [
    "# lists are much faster than dataframes, converting\n",
    "cddb_list = cddb_df_trim.values.tolist()\n",
    "tracks_list = tracks_df.values.tolist()\n",
    "\n",
    "print(f'num null years: ${len(cddb_list)}')"
   ]
  },
  {
   "cell_type": "code",
   "execution_count": 29,
   "id": "2522aadc",
   "metadata": {},
   "outputs": [
    {
     "name": "stdout",
     "output_type": "stream",
     "text": [
      "46\n"
     ]
    }
   ],
   "source": [
    "# list should have \n",
    "n = 100\n",
    "   \n",
    "# using list comprehension \n",
    "cddb_list_chunks = [cddb_list[i:i + n] for i in range(0, len(cddb_list), n)] \n",
    "print(len(cddb_list_chunks))"
   ]
  },
  {
   "cell_type": "code",
   "execution_count": 45,
   "id": "da2120d9",
   "metadata": {},
   "outputs": [],
   "source": [
    "def start_repair(cd_list, tracks_list):\n",
    "    num_repairs = 0\n",
    "    num_not_repairable = 0\n",
    "    \n",
    "    total_rows = len(cd_list)\n",
    "    for cddb_row in tqdm(cd_list, total=total_rows, desc='Processing rows', ncols=100):\n",
    "    #for cddb_row in cd_list:\n",
    "  \n",
    "        artist_name = cddb_row[0]\n",
    "        album_id = cddb_row[1]\n",
    "\n",
    "        # Grab the tracks for this album\n",
    "        tracks_for_album = []\n",
    "        for row in tracks_list:\n",
    "            if row[1] == album_id:\n",
    "                tracks_for_album.append(row[2])\n",
    "            # stop iterating if album id is greater\n",
    "            elif row[1] > int(album_id):\n",
    "                break\n",
    "                        \n",
    "        if len(tracks_for_album) == 0:\n",
    "            # No song for track something is wrong\n",
    "            num_not_repairable += 1\n",
    "            cd_list.remove(cddb_row)\n",
    "            continue\n",
    "        \n",
    "        \n",
    "        for track in tracks_for_album:\n",
    "            fix = get_song_release_year(track, artist_name)\n",
    "            if fix:\n",
    "                num_repairs += 1\n",
    "                # update cddb_df directly\n",
    "                idx_list = cddb_df.index[cddb_df['id'] == cddb_row[3]].tolist()\n",
    "                idx = idx_list[0]\n",
    "                cddb_df.at[idx,'year'] = fix\n",
    "                break # we found one we are clean\n",
    "        \n",
    "    print(f'Done! num repairs: {num_repairs}, num not repairable: {num_not_repairable}')\n",
    "    if num_repairs > 0:\n",
    "        return True\n",
    "    else:\n",
    "        return False\n",
    "    "
   ]
  },
  {
   "cell_type": "code",
   "execution_count": 32,
   "id": "ca4ea05c",
   "metadata": {},
   "outputs": [
    {
     "name": "stderr",
     "output_type": "stream",
     "text": [
      "Processing rows: 100%|████████████████████████████████████████████| 100/100 [03:30<00:00,  2.10s/it]\n"
     ]
    },
    {
     "name": "stdout",
     "output_type": "stream",
     "text": [
      "Done! num repairs: 40, num not repairable: 0\n",
      "finished chunk: 0\n"
     ]
    },
    {
     "name": "stderr",
     "output_type": "stream",
     "text": [
      "Processing rows: 100%|████████████████████████████████████████████| 100/100 [03:10<00:00,  1.91s/it]\n"
     ]
    },
    {
     "name": "stdout",
     "output_type": "stream",
     "text": [
      "Done! num repairs: 50, num not repairable: 0\n",
      "finished chunk: 1\n"
     ]
    },
    {
     "name": "stderr",
     "output_type": "stream",
     "text": [
      "Processing rows: 100%|████████████████████████████████████████████| 100/100 [03:27<00:00,  2.07s/it]\n"
     ]
    },
    {
     "name": "stdout",
     "output_type": "stream",
     "text": [
      "Done! num repairs: 45, num not repairable: 0\n",
      "finished chunk: 2\n"
     ]
    },
    {
     "name": "stderr",
     "output_type": "stream",
     "text": [
      "Processing rows: 100%|████████████████████████████████████████████| 100/100 [03:11<00:00,  1.92s/it]\n"
     ]
    },
    {
     "name": "stdout",
     "output_type": "stream",
     "text": [
      "Done! num repairs: 50, num not repairable: 0\n",
      "finished chunk: 3\n"
     ]
    },
    {
     "name": "stderr",
     "output_type": "stream",
     "text": [
      "Processing rows: 100%|████████████████████████████████████████████| 100/100 [02:44<00:00,  1.64s/it]\n"
     ]
    },
    {
     "name": "stdout",
     "output_type": "stream",
     "text": [
      "Done! num repairs: 60, num not repairable: 0\n",
      "finished chunk: 4\n"
     ]
    },
    {
     "name": "stderr",
     "output_type": "stream",
     "text": [
      "Processing rows: 100%|████████████████████████████████████████████| 100/100 [02:50<00:00,  1.71s/it]\n"
     ]
    },
    {
     "name": "stdout",
     "output_type": "stream",
     "text": [
      "Done! num repairs: 57, num not repairable: 0\n",
      "finished chunk: 5\n"
     ]
    },
    {
     "name": "stderr",
     "output_type": "stream",
     "text": [
      "Processing rows: 100%|████████████████████████████████████████████| 100/100 [03:10<00:00,  1.91s/it]\n"
     ]
    },
    {
     "name": "stdout",
     "output_type": "stream",
     "text": [
      "Done! num repairs: 52, num not repairable: 0\n",
      "finished chunk: 6\n"
     ]
    },
    {
     "name": "stderr",
     "output_type": "stream",
     "text": [
      "Processing rows: 100%|████████████████████████████████████████████| 100/100 [03:14<00:00,  1.95s/it]\n"
     ]
    },
    {
     "name": "stdout",
     "output_type": "stream",
     "text": [
      "Done! num repairs: 51, num not repairable: 0\n",
      "finished chunk: 7\n"
     ]
    },
    {
     "name": "stderr",
     "output_type": "stream",
     "text": [
      "Processing rows: 100%|████████████████████████████████████████████| 100/100 [03:08<00:00,  1.88s/it]\n"
     ]
    },
    {
     "name": "stdout",
     "output_type": "stream",
     "text": [
      "Done! num repairs: 51, num not repairable: 0\n",
      "finished chunk: 8\n"
     ]
    },
    {
     "name": "stderr",
     "output_type": "stream",
     "text": [
      "Processing rows: 100%|████████████████████████████████████████████| 100/100 [03:28<00:00,  2.08s/it]\n"
     ]
    },
    {
     "name": "stdout",
     "output_type": "stream",
     "text": [
      "Done! num repairs: 43, num not repairable: 0\n",
      "finished chunk: 9\n"
     ]
    },
    {
     "name": "stderr",
     "output_type": "stream",
     "text": [
      "Processing rows: 100%|████████████████████████████████████████████| 100/100 [03:36<00:00,  2.16s/it]\n"
     ]
    },
    {
     "name": "stdout",
     "output_type": "stream",
     "text": [
      "Done! num repairs: 37, num not repairable: 0\n",
      "finished chunk: 10\n"
     ]
    },
    {
     "name": "stderr",
     "output_type": "stream",
     "text": [
      "Processing rows: 100%|████████████████████████████████████████████| 100/100 [03:22<00:00,  2.02s/it]\n"
     ]
    },
    {
     "name": "stdout",
     "output_type": "stream",
     "text": [
      "Done! num repairs: 44, num not repairable: 0\n",
      "finished chunk: 11\n"
     ]
    },
    {
     "name": "stderr",
     "output_type": "stream",
     "text": [
      "Processing rows: 100%|████████████████████████████████████████████| 100/100 [03:26<00:00,  2.07s/it]\n"
     ]
    },
    {
     "name": "stdout",
     "output_type": "stream",
     "text": [
      "Done! num repairs: 42, num not repairable: 0\n",
      "finished chunk: 12\n"
     ]
    },
    {
     "name": "stderr",
     "output_type": "stream",
     "text": [
      "Processing rows: 100%|████████████████████████████████████████████| 100/100 [03:14<00:00,  1.95s/it]\n"
     ]
    },
    {
     "name": "stdout",
     "output_type": "stream",
     "text": [
      "Done! num repairs: 47, num not repairable: 0\n",
      "finished chunk: 13\n"
     ]
    },
    {
     "name": "stderr",
     "output_type": "stream",
     "text": [
      "Processing rows: 100%|████████████████████████████████████████████| 100/100 [03:09<00:00,  1.90s/it]\n"
     ]
    },
    {
     "name": "stdout",
     "output_type": "stream",
     "text": [
      "Done! num repairs: 51, num not repairable: 0\n",
      "finished chunk: 14\n"
     ]
    },
    {
     "name": "stderr",
     "output_type": "stream",
     "text": [
      "Processing rows: 100%|████████████████████████████████████████████| 100/100 [03:23<00:00,  2.04s/it]\n"
     ]
    },
    {
     "name": "stdout",
     "output_type": "stream",
     "text": [
      "Done! num repairs: 45, num not repairable: 0\n",
      "finished chunk: 15\n"
     ]
    },
    {
     "name": "stderr",
     "output_type": "stream",
     "text": [
      "Processing rows: 100%|████████████████████████████████████████████| 100/100 [03:35<00:00,  2.15s/it]\n"
     ]
    },
    {
     "name": "stdout",
     "output_type": "stream",
     "text": [
      "Done! num repairs: 38, num not repairable: 0\n",
      "finished chunk: 16\n"
     ]
    },
    {
     "name": "stderr",
     "output_type": "stream",
     "text": [
      "Processing rows: 100%|████████████████████████████████████████████| 100/100 [03:23<00:00,  2.03s/it]\n"
     ]
    },
    {
     "name": "stdout",
     "output_type": "stream",
     "text": [
      "Done! num repairs: 47, num not repairable: 0\n",
      "finished chunk: 17\n"
     ]
    },
    {
     "name": "stderr",
     "output_type": "stream",
     "text": [
      "Processing rows: 100%|████████████████████████████████████████████| 100/100 [03:40<00:00,  2.20s/it]\n"
     ]
    },
    {
     "name": "stdout",
     "output_type": "stream",
     "text": [
      "Done! num repairs: 40, num not repairable: 0\n",
      "finished chunk: 18\n"
     ]
    },
    {
     "name": "stderr",
     "output_type": "stream",
     "text": [
      "Processing rows: 100%|████████████████████████████████████████████| 100/100 [03:10<00:00,  1.91s/it]\n"
     ]
    },
    {
     "name": "stdout",
     "output_type": "stream",
     "text": [
      "Done! num repairs: 50, num not repairable: 0\n",
      "finished chunk: 19\n"
     ]
    },
    {
     "name": "stderr",
     "output_type": "stream",
     "text": [
      "Processing rows: 100%|████████████████████████████████████████████| 100/100 [03:13<00:00,  1.93s/it]\n"
     ]
    },
    {
     "name": "stdout",
     "output_type": "stream",
     "text": [
      "Done! num repairs: 52, num not repairable: 0\n",
      "finished chunk: 20\n"
     ]
    },
    {
     "name": "stderr",
     "output_type": "stream",
     "text": [
      "Processing rows: 100%|████████████████████████████████████████████| 100/100 [02:38<00:00,  1.58s/it]\n"
     ]
    },
    {
     "name": "stdout",
     "output_type": "stream",
     "text": [
      "Done! num repairs: 67, num not repairable: 0\n",
      "finished chunk: 21\n"
     ]
    },
    {
     "name": "stderr",
     "output_type": "stream",
     "text": [
      "Processing rows: 100%|████████████████████████████████████████████| 100/100 [02:53<00:00,  1.73s/it]\n"
     ]
    },
    {
     "name": "stdout",
     "output_type": "stream",
     "text": [
      "Done! num repairs: 60, num not repairable: 0\n",
      "finished chunk: 22\n"
     ]
    },
    {
     "name": "stderr",
     "output_type": "stream",
     "text": [
      "Processing rows: 100%|████████████████████████████████████████████| 100/100 [02:40<00:00,  1.61s/it]\n"
     ]
    },
    {
     "name": "stdout",
     "output_type": "stream",
     "text": [
      "Done! num repairs: 65, num not repairable: 0\n",
      "finished chunk: 23\n"
     ]
    },
    {
     "name": "stderr",
     "output_type": "stream",
     "text": [
      "Processing rows: 100%|████████████████████████████████████████████| 100/100 [02:39<00:00,  1.60s/it]\n"
     ]
    },
    {
     "name": "stdout",
     "output_type": "stream",
     "text": [
      "Done! num repairs: 63, num not repairable: 0\n",
      "finished chunk: 24\n"
     ]
    },
    {
     "name": "stderr",
     "output_type": "stream",
     "text": [
      "Processing rows: 100%|████████████████████████████████████████████| 100/100 [02:31<00:00,  1.51s/it]\n"
     ]
    },
    {
     "name": "stdout",
     "output_type": "stream",
     "text": [
      "Done! num repairs: 68, num not repairable: 0\n",
      "finished chunk: 25\n"
     ]
    },
    {
     "name": "stderr",
     "output_type": "stream",
     "text": [
      "Processing rows: 100%|████████████████████████████████████████████| 100/100 [03:05<00:00,  1.86s/it]\n"
     ]
    },
    {
     "name": "stdout",
     "output_type": "stream",
     "text": [
      "Done! num repairs: 52, num not repairable: 0\n",
      "finished chunk: 26\n"
     ]
    },
    {
     "name": "stderr",
     "output_type": "stream",
     "text": [
      "Processing rows: 100%|████████████████████████████████████████████| 100/100 [02:51<00:00,  1.71s/it]\n"
     ]
    },
    {
     "name": "stdout",
     "output_type": "stream",
     "text": [
      "Done! num repairs: 57, num not repairable: 0\n",
      "finished chunk: 27\n"
     ]
    },
    {
     "name": "stderr",
     "output_type": "stream",
     "text": [
      "Processing rows: 100%|████████████████████████████████████████████| 100/100 [02:49<00:00,  1.70s/it]\n"
     ]
    },
    {
     "name": "stdout",
     "output_type": "stream",
     "text": [
      "Done! num repairs: 60, num not repairable: 0\n",
      "finished chunk: 28\n"
     ]
    },
    {
     "name": "stderr",
     "output_type": "stream",
     "text": [
      "Processing rows: 100%|████████████████████████████████████████████| 100/100 [02:47<00:00,  1.68s/it]\n"
     ]
    },
    {
     "name": "stdout",
     "output_type": "stream",
     "text": [
      "Done! num repairs: 62, num not repairable: 0\n",
      "finished chunk: 29\n"
     ]
    },
    {
     "name": "stderr",
     "output_type": "stream",
     "text": [
      "Processing rows: 100%|████████████████████████████████████████████| 100/100 [02:33<00:00,  1.53s/it]\n"
     ]
    },
    {
     "name": "stdout",
     "output_type": "stream",
     "text": [
      "Done! num repairs: 66, num not repairable: 0\n",
      "finished chunk: 30\n"
     ]
    },
    {
     "name": "stderr",
     "output_type": "stream",
     "text": [
      "Processing rows: 100%|████████████████████████████████████████████| 100/100 [02:49<00:00,  1.69s/it]\n"
     ]
    },
    {
     "name": "stdout",
     "output_type": "stream",
     "text": [
      "Done! num repairs: 59, num not repairable: 0\n",
      "finished chunk: 31\n"
     ]
    },
    {
     "name": "stderr",
     "output_type": "stream",
     "text": [
      "Processing rows: 100%|████████████████████████████████████████████| 100/100 [02:29<00:00,  1.49s/it]\n"
     ]
    },
    {
     "name": "stdout",
     "output_type": "stream",
     "text": [
      "Done! num repairs: 70, num not repairable: 0\n",
      "finished chunk: 32\n"
     ]
    },
    {
     "name": "stderr",
     "output_type": "stream",
     "text": [
      "Processing rows: 100%|████████████████████████████████████████████| 100/100 [02:51<00:00,  1.71s/it]\n"
     ]
    },
    {
     "name": "stdout",
     "output_type": "stream",
     "text": [
      "Done! num repairs: 60, num not repairable: 0\n",
      "finished chunk: 33\n"
     ]
    },
    {
     "name": "stderr",
     "output_type": "stream",
     "text": [
      "Processing rows: 100%|████████████████████████████████████████████| 100/100 [02:45<00:00,  1.65s/it]\n"
     ]
    },
    {
     "name": "stdout",
     "output_type": "stream",
     "text": [
      "Done! num repairs: 62, num not repairable: 0\n",
      "finished chunk: 34\n"
     ]
    },
    {
     "name": "stderr",
     "output_type": "stream",
     "text": [
      "Processing rows: 100%|████████████████████████████████████████████| 100/100 [02:53<00:00,  1.73s/it]\n"
     ]
    },
    {
     "name": "stdout",
     "output_type": "stream",
     "text": [
      "Done! num repairs: 58, num not repairable: 0\n",
      "finished chunk: 35\n"
     ]
    },
    {
     "name": "stderr",
     "output_type": "stream",
     "text": [
      "Processing rows: 100%|████████████████████████████████████████████| 100/100 [03:18<00:00,  1.98s/it]\n"
     ]
    },
    {
     "name": "stdout",
     "output_type": "stream",
     "text": [
      "Done! num repairs: 50, num not repairable: 0\n",
      "finished chunk: 36\n"
     ]
    },
    {
     "name": "stderr",
     "output_type": "stream",
     "text": [
      "Processing rows: 100%|████████████████████████████████████████████| 100/100 [03:18<00:00,  1.98s/it]\n"
     ]
    },
    {
     "name": "stdout",
     "output_type": "stream",
     "text": [
      "Done! num repairs: 50, num not repairable: 0\n",
      "finished chunk: 37\n"
     ]
    },
    {
     "name": "stderr",
     "output_type": "stream",
     "text": [
      "Processing rows: 100%|████████████████████████████████████████████| 100/100 [03:21<00:00,  2.02s/it]\n"
     ]
    },
    {
     "name": "stdout",
     "output_type": "stream",
     "text": [
      "Done! num repairs: 47, num not repairable: 0\n",
      "finished chunk: 38\n"
     ]
    },
    {
     "name": "stderr",
     "output_type": "stream",
     "text": [
      "Processing rows: 100%|████████████████████████████████████████████| 100/100 [03:49<00:00,  2.30s/it]\n"
     ]
    },
    {
     "name": "stdout",
     "output_type": "stream",
     "text": [
      "Done! num repairs: 38, num not repairable: 0\n",
      "finished chunk: 39\n"
     ]
    },
    {
     "name": "stderr",
     "output_type": "stream",
     "text": [
      "Processing rows: 100%|████████████████████████████████████████████| 100/100 [03:41<00:00,  2.22s/it]\n"
     ]
    },
    {
     "name": "stdout",
     "output_type": "stream",
     "text": [
      "Done! num repairs: 38, num not repairable: 0\n",
      "finished chunk: 40\n"
     ]
    },
    {
     "name": "stderr",
     "output_type": "stream",
     "text": [
      "Processing rows: 100%|████████████████████████████████████████████| 100/100 [03:37<00:00,  2.18s/it]\n"
     ]
    },
    {
     "name": "stdout",
     "output_type": "stream",
     "text": [
      "Done! num repairs: 43, num not repairable: 0\n",
      "finished chunk: 41\n"
     ]
    },
    {
     "name": "stderr",
     "output_type": "stream",
     "text": [
      "Processing rows: 100%|████████████████████████████████████████████| 100/100 [03:25<00:00,  2.06s/it]\n"
     ]
    },
    {
     "name": "stdout",
     "output_type": "stream",
     "text": [
      "Done! num repairs: 46, num not repairable: 0\n",
      "finished chunk: 42\n"
     ]
    },
    {
     "name": "stderr",
     "output_type": "stream",
     "text": [
      "Processing rows: 100%|████████████████████████████████████████████| 100/100 [03:20<00:00,  2.01s/it]\n"
     ]
    },
    {
     "name": "stdout",
     "output_type": "stream",
     "text": [
      "Done! num repairs: 47, num not repairable: 0\n",
      "finished chunk: 43\n"
     ]
    },
    {
     "name": "stderr",
     "output_type": "stream",
     "text": [
      "Processing rows: 100%|████████████████████████████████████████████| 100/100 [01:48<00:00,  1.09s/it]\n"
     ]
    },
    {
     "name": "stdout",
     "output_type": "stream",
     "text": [
      "Done! num repairs: 84, num not repairable: 0\n",
      "finished chunk: 44\n"
     ]
    },
    {
     "name": "stderr",
     "output_type": "stream",
     "text": [
      "Processing rows: 100%|██████████████████████████████████████████████| 32/32 [00:39<00:00,  1.24s/it]"
     ]
    },
    {
     "name": "stdout",
     "output_type": "stream",
     "text": [
      "Done! num repairs: 25, num not repairable: 0\n",
      "finished chunk: 45\n"
     ]
    },
    {
     "name": "stderr",
     "output_type": "stream",
     "text": [
      "\n"
     ]
    }
   ],
   "source": [
    "# attemp to write output every 100 fixes \n",
    "itr = 0\n",
    "for chunk in cddb_list_chunks:\n",
    "    start_repair(chunk, tracks_list)\n",
    "    print(\"finished chunk: \" + str(itr))\n",
    "    cddb_df.to_csv('../../cleaning_stages/4_year_repair/cddb_3.tsv', sep=\"\\t\", index=False)\n",
    "    itr = itr + 1\n",
    "   "
   ]
  },
  {
   "cell_type": "markdown",
   "id": "6ee8b72c",
   "metadata": {},
   "source": []
  },
  {
   "cell_type": "code",
   "execution_count": 46,
   "id": "bb21d8c0",
   "metadata": {},
   "outputs": [],
   "source": [
    "# trying the algorithm one more time on albumns that couldn't find a year\n",
    "cddb_df_round2 = pd.read_csv('../../cleaning_stages/4_year_repair/cddb_3.tsv', sep='\\t')\n",
    "\n",
    "\n",
    "cddb_df_trim_2 = cddb_df_round2[cddb_df_round2['year'].isnull()]\n",
    "cddb_df_trim_2 = cddb_df_trim_2[['artist', 'tracks', 'year', 'id']]"
   ]
  },
  {
   "cell_type": "code",
   "execution_count": 47,
   "id": "c9387e9b",
   "metadata": {},
   "outputs": [
    {
     "name": "stdout",
     "output_type": "stream",
     "text": [
      "num null years: $2143\n"
     ]
    }
   ],
   "source": [
    "# lists are much faster than dataframes, converting\n",
    "cddb_list_2 = cddb_df_trim_2.values.tolist()\n",
    "\n",
    "print(f'num null years: ${len(cddb_list_2)}')"
   ]
  },
  {
   "cell_type": "code",
   "execution_count": 48,
   "id": "8692a26a",
   "metadata": {},
   "outputs": [
    {
     "name": "stdout",
     "output_type": "stream",
     "text": [
      "22\n"
     ]
    }
   ],
   "source": [
    "# list should have \n",
    "n = 100\n",
    "   \n",
    "# using list comprehension \n",
    "cddb_list_chunks_2 = [cddb_list_2[i:i + n] for i in range(0, len(cddb_list_2), n)] \n",
    "print(len(cddb_list_chunks_2))"
   ]
  },
  {
   "cell_type": "code",
   "execution_count": 49,
   "id": "f2828a0a",
   "metadata": {},
   "outputs": [
    {
     "name": "stderr",
     "output_type": "stream",
     "text": [
      "Processing rows: 100%|████████████████████████████████████████████| 100/100 [12:17<00:00,  7.38s/it]\n"
     ]
    },
    {
     "name": "stdout",
     "output_type": "stream",
     "text": [
      "Done! num repairs: 6, num not repairable: 0\n",
      "finished chunk: 0\n",
      "repairs made, saving data\n"
     ]
    },
    {
     "name": "stderr",
     "output_type": "stream",
     "text": [
      "Processing rows: 100%|████████████████████████████████████████████| 100/100 [13:35<00:00,  8.15s/it]\n"
     ]
    },
    {
     "name": "stdout",
     "output_type": "stream",
     "text": [
      "Done! num repairs: 6, num not repairable: 0\n",
      "finished chunk: 1\n",
      "repairs made, saving data\n"
     ]
    },
    {
     "name": "stderr",
     "output_type": "stream",
     "text": [
      "Processing rows: 100%|████████████████████████████████████████████| 100/100 [11:30<00:00,  6.91s/it]\n"
     ]
    },
    {
     "name": "stdout",
     "output_type": "stream",
     "text": [
      "Done! num repairs: 8, num not repairable: 0\n",
      "finished chunk: 2\n",
      "repairs made, saving data\n"
     ]
    },
    {
     "name": "stderr",
     "output_type": "stream",
     "text": [
      "Processing rows: 100%|████████████████████████████████████████████| 100/100 [12:35<00:00,  7.55s/it]\n"
     ]
    },
    {
     "name": "stdout",
     "output_type": "stream",
     "text": [
      "Done! num repairs: 10, num not repairable: 0\n",
      "finished chunk: 3\n",
      "repairs made, saving data\n"
     ]
    },
    {
     "name": "stderr",
     "output_type": "stream",
     "text": [
      "Processing rows: 100%|████████████████████████████████████████████| 100/100 [13:04<00:00,  7.84s/it]\n"
     ]
    },
    {
     "name": "stdout",
     "output_type": "stream",
     "text": [
      "Done! num repairs: 5, num not repairable: 0\n",
      "finished chunk: 4\n",
      "repairs made, saving data\n"
     ]
    },
    {
     "name": "stderr",
     "output_type": "stream",
     "text": [
      "Processing rows: 100%|████████████████████████████████████████████| 100/100 [13:38<00:00,  8.19s/it]\n"
     ]
    },
    {
     "name": "stdout",
     "output_type": "stream",
     "text": [
      "Done! num repairs: 9, num not repairable: 0\n",
      "finished chunk: 5\n",
      "repairs made, saving data\n"
     ]
    },
    {
     "name": "stderr",
     "output_type": "stream",
     "text": [
      "Processing rows:  56%|█████████████████████████▏                   | 56/100 [07:31<05:28,  7.47s/it]"
     ]
    }
   ],
   "source": [
    "# attemp to write output every 100 fixes \n",
    "itr = 0\n",
    "for chunk in cddb_list_chunks_2:\n",
    "    repairs = start_repair(chunk, tracks_list)\n",
    "    print(\"finished chunk: \" + str(itr))\n",
    "    if repairs == True:\n",
    "        print(\"repairs made, saving data\")\n",
    "        cddb_df.to_csv('../../cleaning_stages/4_year_repair/cddb_3.tsv', sep=\"\\t\", index=False)\n",
    "    itr = itr + 1"
   ]
  },
  {
   "cell_type": "code",
   "execution_count": null,
   "id": "0da7c108",
   "metadata": {},
   "outputs": [],
   "source": []
  }
 ],
 "metadata": {
  "kernelspec": {
   "display_name": "Python 3 (ipykernel)",
   "language": "python",
   "name": "python3"
  },
  "language_info": {
   "codemirror_mode": {
    "name": "ipython",
    "version": 3
   },
   "file_extension": ".py",
   "mimetype": "text/x-python",
   "name": "python",
   "nbconvert_exporter": "python",
   "pygments_lexer": "ipython3",
   "version": "3.9.16"
  }
 },
 "nbformat": 4,
 "nbformat_minor": 5
}

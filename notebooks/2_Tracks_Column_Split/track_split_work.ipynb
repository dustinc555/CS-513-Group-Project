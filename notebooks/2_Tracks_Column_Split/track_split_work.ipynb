{
 "cells": [
  {
   "cell_type": "markdown",
   "metadata": {},
   "source": [
    "## Getting Data to work with."
   ]
  },
  {
   "cell_type": "code",
   "execution_count": 1,
   "metadata": {},
   "outputs": [
    {
     "name": "stdout",
     "output_type": "stream",
     "text": [
      "                              artist category       genre   \n",
      "0                    Backstreet Boys    Blues         Pop  \\\n",
      "1                            Various     Data         NaN   \n",
      "2                          No Return     Data        Data   \n",
      "3          Ã¤â¸â­ã¦?â€˜ã©â€ºâ€¦ã¤â¿å     Data         Pop   \n",
      "4                            Emanuel     Data        Data   \n",
      "...                              ...      ...         ...   \n",
      "9758  Various Artists - Notting Hill    Blues  Soundtrack   \n",
      "9759                          Lenine    Blues       Samba   \n",
      "9760                      Ben Harper    Blues       Blues   \n",
      "9761                       Alvin Lee    Blues       Blues   \n",
      "9762                 Manuel Barrueco    Blues        Jazz   \n",
      "\n",
      "                                             title   \n",
      "0                                       Millennium  \\\n",
      "1                     Frankfurt Trance Vol. 04 Cd1   \n",
      "2                                  Self Mutilation   \n",
      "3     Ã¦æ’â³ã£?â€žã¥â€¡âºã£?â®ã£?â€¹ã£?â€˜ã£â€šâ€°   \n",
      "4                                       Felicidade   \n",
      "...                                            ...   \n",
      "9758                                  Notting Hill   \n",
      "9759                                    Na Pressao   \n",
      "9760                              The Will To Live   \n",
      "9761                            I Hear You Rockin'   \n",
      "9762                                 Nylon & Steel   \n",
      "\n",
      "                                                 tracks  year      id   \n",
      "0     Larger Than Life | I Want It That Way | Show M...   NaN   10000  \\\n",
      "1     Dj Tom Stevens Vs. Fridge - Outface 2000 (radi...   NaN  100001   \n",
      "2     Do Or Die | Truth And Reality | Lost | Soul Ex...   NaN  100002   \n",
      "3     Ã§â€ºâ€ ã¥â¸â°ã£â€šå  | Ã£?â€žã£?â¤ã£?â€¹ã¨â¡â...  1989  100003   \n",
      "4     Felicidade Quando O Telefone Toca | Vem Bailar...  1998  100004   \n",
      "...                                                 ...   ...     ...   \n",
      "9758  Another Level / From The Heart | Ronan Keating...  1999    9838   \n",
      "9759  Soul Brasileiro | Na Pressao | Pacienca | Meua...   NaN    9863   \n",
      "9760  Faded | Homeless Child | Number Three | Roses ...  1997    9868   \n",
      "9761  Keep On Rockin' | Long Legs | I Hear You Knock...  1993    9876   \n",
      "9762  Manuel Barrueco / Odeon | Manuel Barrueco, Al ...  2001    9969   \n",
      "\n",
      "      merged_values  \n",
      "0               NaN  \n",
      "1               NaN  \n",
      "2               NaN  \n",
      "3               NaN  \n",
      "4               NaN  \n",
      "...             ...  \n",
      "9758            NaN  \n",
      "9759            NaN  \n",
      "9760            NaN  \n",
      "9761            NaN  \n",
      "9762            NaN  \n",
      "\n",
      "[9763 rows x 8 columns]\n"
     ]
    }
   ],
   "source": [
    "import numpy as np\n",
    "import pandas as pd\n",
    " \n",
    "\n",
    "data = pd.read_csv(\"../../cleaning_stages/1_openrefine/cddb-tsv.tsv\", sep='\\t')\n",
    "\n",
    "# printing data\n",
    "print(data)"
   ]
  },
  {
   "cell_type": "markdown",
   "metadata": {},
   "source": [
    "## Iterate through table"
   ]
  },
  {
   "cell_type": "code",
   "execution_count": 2,
   "metadata": {},
   "outputs": [],
   "source": [
    "def split_column(df):\n",
    "    Tracks_Dict = []\n",
    "    Tracks_id_counter = 0\n",
    "    New_Track_id_counter = 1000\n",
    "    \n",
    "    for i, row in df.iterrows():\n",
    "        # 1. get string from tracks table to track_str\n",
    "        row_track_str = df.at[i,'tracks']\n",
    "        \n",
    "        # 2. split track_str by \"|\"\n",
    "        str_prts = row_track_str.split('|')\n",
    "        \n",
    "        # 3. keep only split str that are not blank for now\n",
    "        for prt in str_prts:\n",
    "            if prt.isspace() == False:\n",
    "                if prt != '':\n",
    "                    # 4. add dictionary elements from split to Tracks_Dict (Tracks_id_counter, new_track_Id, split_str)\n",
    "                    Tracks_Dict.append([Tracks_id_counter, New_Track_id_counter, prt])\n",
    "                    \n",
    "                    # 5. increment counter - Tracks_id_counter\n",
    "                    Tracks_id_counter += 1\n",
    "        \n",
    "        # 6. update row Tracks value to be new_track_Id\n",
    "        df.at[i,'tracks'] = New_Track_id_counter\n",
    "        \n",
    "        # 7. increment New_Track_id_counter\n",
    "        New_Track_id_counter += 1\n",
    "    \n",
    "    # convert list of list to data frame\n",
    "    tracks_df = pd.DataFrame(Tracks_Dict, columns = ['Id', 'Album Id', 'Name'])\n",
    "    \n",
    "    return df, tracks_df\n",
    "    "
   ]
  },
  {
   "cell_type": "markdown",
   "metadata": {},
   "source": [
    "## Sanity Check"
   ]
  },
  {
   "cell_type": "code",
   "execution_count": 3,
   "metadata": {},
   "outputs": [
    {
     "name": "stdout",
     "output_type": "stream",
     "text": [
      "                              artist category       genre   \n",
      "0                    Backstreet Boys    Blues         Pop  \\\n",
      "1                            Various     Data         NaN   \n",
      "2                          No Return     Data        Data   \n",
      "3          Ã¤â¸â­ã¦?â€˜ã©â€ºâ€¦ã¤â¿å     Data         Pop   \n",
      "4                            Emanuel     Data        Data   \n",
      "...                              ...      ...         ...   \n",
      "9758  Various Artists - Notting Hill    Blues  Soundtrack   \n",
      "9759                          Lenine    Blues       Samba   \n",
      "9760                      Ben Harper    Blues       Blues   \n",
      "9761                       Alvin Lee    Blues       Blues   \n",
      "9762                 Manuel Barrueco    Blues        Jazz   \n",
      "\n",
      "                                             title tracks  year      id   \n",
      "0                                       Millennium   1000   NaN   10000  \\\n",
      "1                     Frankfurt Trance Vol. 04 Cd1   1001   NaN  100001   \n",
      "2                                  Self Mutilation   1002   NaN  100002   \n",
      "3     Ã¦æ’â³ã£?â€žã¥â€¡âºã£?â®ã£?â€¹ã£?â€˜ã£â€šâ€°   1003  1989  100003   \n",
      "4                                       Felicidade   1004  1998  100004   \n",
      "...                                            ...    ...   ...     ...   \n",
      "9758                                  Notting Hill  10758  1999    9838   \n",
      "9759                                    Na Pressao  10759   NaN    9863   \n",
      "9760                              The Will To Live  10760  1997    9868   \n",
      "9761                            I Hear You Rockin'  10761  1993    9876   \n",
      "9762                                 Nylon & Steel  10762  2001    9969   \n",
      "\n",
      "      merged_values  \n",
      "0               NaN  \n",
      "1               NaN  \n",
      "2               NaN  \n",
      "3               NaN  \n",
      "4               NaN  \n",
      "...             ...  \n",
      "9758            NaN  \n",
      "9759            NaN  \n",
      "9760            NaN  \n",
      "9761            NaN  \n",
      "9762            NaN  \n",
      "\n",
      "[9763 rows x 8 columns]\n",
      "            Id  Album Id                                               Name\n",
      "0            0      1000                                  Larger Than Life \n",
      "1            1      1000                                I Want It That Way \n",
      "2            2      1000               Show Me The Meaning Of Being Lonely \n",
      "3            3      1000                                 It's Gotta Be You \n",
      "4            4      1000                                I Need You Tonight \n",
      "...        ...       ...                                                ...\n",
      "129206  129206     10762      Manuel Barrueco, Steve Morse / Up In The Air \n",
      "129207  129207     10762   Manuel Barrueco, Andy Summers / Mysteries Of ...\n",
      "129208  129208     10762   Manuel Barrueco, Andy Summers / I Remember An...\n",
      "129209  129209     10762   Manuel Barrueco, Andy Summers / Crow At Midni...\n",
      "129210  129210     10762                           Manuel Barrueco / Rodeo \n",
      "\n",
      "[129211 rows x 3 columns]\n"
     ]
    }
   ],
   "source": [
    "data_split, tracks_df = split_column(data)\n",
    "\n",
    "# uncomment if want to visual check\n",
    "print(data_split)\n",
    "\n",
    "print(tracks_df)"
   ]
  },
  {
   "cell_type": "markdown",
   "metadata": {},
   "source": [
    "## Export both dataframe objects to tsv files (or csv)"
   ]
  },
  {
   "cell_type": "code",
   "execution_count": 4,
   "metadata": {},
   "outputs": [],
   "source": [
    "data_split.to_csv('../../cleaning_stages/2_tracks_split/cddb_1.tsv', sep=\"\\t\", index=False)\n",
    "tracks_df.to_csv('../../cleaning_stages/2_tracks_split/cddb_tracks.tsv', sep=\"\\t\", index=False)"
   ]
  },
  {
   "cell_type": "code",
   "execution_count": null,
   "metadata": {},
   "outputs": [],
   "source": []
  }
 ],
 "metadata": {
  "kernelspec": {
   "display_name": "Python 3 (ipykernel)",
   "language": "python",
   "name": "python3"
  },
  "language_info": {
   "codemirror_mode": {
    "name": "ipython",
    "version": 3
   },
   "file_extension": ".py",
   "mimetype": "text/x-python",
   "name": "python",
   "nbconvert_exporter": "python",
   "pygments_lexer": "ipython3",
   "version": "3.9.16"
  }
 },
 "nbformat": 4,
 "nbformat_minor": 2
}
